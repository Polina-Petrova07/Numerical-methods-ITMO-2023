{
 "cells": [
  {
   "cell_type": "markdown",
   "id": "8d5d5094-3256-48d7-87ef-91637c9acc45",
   "metadata": {},
   "source": [
    "\n",
    "Бусько Полина  \n",
    "polina_petrova_02@bk.ru\n",
    "\n",
    "---\n",
    "\n",
    "__Предмет__: Теория и Практика Численных Методов  \n",
    "\n",
    "\n",
    "# Лабораторная работа №4.   \n",
    "\n",
    "## Решение нелинейных ОДУ методом конечных элементов \n",
    "\n",
    "__Due date:__ 2023.11.23 .  \n",
    "__Date submitted:__ 2023.12.07\n",
    "\n",
    "\n"
   ]
  },
  {
   "cell_type": "markdown",
   "id": "6a685a45-95a4-4dc4-b483-d7e973c36805",
   "metadata": {},
   "source": [
    "## Задание.  \n",
    "\n",
    "Решить нелинейное уравнение методом конечных элементов второго порядка: \n",
    "\n",
    "$$ \n",
    "-\\frac{d}{dx}\\left( p(x, u) \\frac{du}{dx} \\right) + q(x, u) \\cdot \\frac{du}{dx} + r(x, u) \\cdot u = f(x, u), \n",
    "\\qquad\n",
    "x \\in (1/4, 4).\n",
    "$$\n",
    "\n",
    "Коэффициенты и источниковый член уравнения имеют вид:\n",
    "\n",
    "$$\n",
    "  p(x, u) = (1 + u), \\quad  q(x) = 0,  \\quad r(x) = 0, \\quad  \n",
    "  f(x) = - \\frac{1}{4 u^3}.\n",
    "$$\n",
    "\n",
    "Точное решение:\n",
    "\n",
    "$$\n",
    "u(x) = \\sqrt{x}\n",
    "$$\n",
    "\n",
    "1. (4 балла) Пояснить в отчете схему применения метода конечных элементов второго порядка. \n",
    "2. (8 баллов) Используя программы из предыдущих работ в качестве шаблона, реализовать решение задачи в двух вариантах: c использованием базисных функций первого и второго порядка.\n",
    "   * Использовать любой стандартный способ решения получившейся после аппроксимации системы нелинейных уравнений (например SciPy.optimize)\n",
    "4. *(4 балла) Дополнить программу самостоятельной реализацией алгоритма метода Ньютона для решения нелинейной системы.\n",
    "5. (4 балла) Сравнить точное и приближенное решения, провести исследование зависимости погрешности от качества сетки.\n",
    " \n",
    "   \n",
    "   "
   ]
  },
  {
   "cell_type": "markdown",
   "id": "fe6d5ace-ea01-4402-8959-0fdf7654bb1b",
   "metadata": {},
   "source": [
    "## Решение"
   ]
  },
  {
   "cell_type": "markdown",
   "id": "674cb205",
   "metadata": {},
   "source": [
    "### Задание 1\n",
    "#### Сетка\n",
    "\n",
    "Рассматрим интервал, на котором определено уравнение: $x \\in (\\frac14; 4)$. Так как мы используем квадратичные базисные функции, то каждый элемент будет задействовать на один узел сетки больше, то есть каждому эдементу соответсвует 3 узла сетки. Всего таких дополнительных узлов будет $N$, значит нвоое количество всех узлов $= 2N + 1$, причем $x_1 = a,\\quad x_{2N+1} = b$ (в нашем случае $a = \\frac14,\\quad b = 4$).\n",
    "\n",
    "Таким образом, элемент $k$ занимает интервал $x_{2k}<x<x_{2k+2}, k=1,2,...,N$. Еще одно условие: элемент $x_{2k+1}$ располагается в центре элемента $k$, то есть $x_{2k+1} = \\frac12\\cdot(x_{2k} + x_{2k+2})$\n",
    "![рисунок 1](pictures_lab_4/pic_1.png)\n",
    "\n",
    "Глобальные квадратичные базисные фукнции будем задавать через локальные базисные функции, определенные на каноническом элементе $0<X<1$\n",
    "![рисунок 2](pictures_lab_4/pic_2.png)\n",
    "\n",
    "$$\n",
    "\\varphi_{loc, 1}(X) = 2(1 - X)(\\frac12 - X)\\\\\n",
    "\\varphi_{loc, 2}(X) = 4X(1 - X)\\\\\n",
    "\\varphi_{loc, 3}(X) = 2X(X - \\frac12)\n",
    "$$\n",
    "\n",
    "Формула преобразования для элемента номер $k$:$\\quad$ $x = X_{2k} + (X_{2k+2} - X_{2k})X$\n",
    "\n",
    "Глобальные базисные функции на элементе с номером $k$ определяются следуюзим образом:\n",
    "\n",
    "$$\n",
    "\\varphi_{2k}(X) = \\varphi_{loc, 1} (X)\\\\\n",
    "\\varphi_{2k + 1}(X) = \\varphi_{loc, 2} (X)\\\\\n",
    "\\varphi_{2k + 2}(X) = \\varphi_{loc, 3} (X)\n",
    "$$\n",
    "\n",
    "Сделав замену в формуле преобразования локальные базисные функции можно записать через исходную переменную $x$. Тогда глобальные базисные функции примут вид:\n",
    "\n",
    "$$\n",
    "\\varphi_{2k}(x) = \\frac{(x_{2k+1}-x)(x_{2k+2}-x)}{(x_{2k+1}-x_{2k})(x_{2k+2}-x_{2k})},\\\\\n",
    "\\varphi_{2k+1}(x) = \\frac{(x-x_{2k})(x_{2k+2}-x)}{(x_{2k+1}-x_{2k})(x_{2k+2}-x_{2k+1})},\\\\\n",
    "\\varphi_{2k+2}(x) = \\frac{(x-x_{2k+2})(x-x_{2k+1})}{(x_{2k+2}-x_{2k+2})(x_{2k+2}-x_{2k+1})},\\\\\n",
    "\\varphi_{j}(x) = 0, \\quad j\\ne 2k, j\\ne 2k+1, j \\ne 2k+2\n",
    "$$\n",
    "\n",
    "#### Сборка\n",
    "Решение данной задачи будем искать в виде: $U = \\sum_{j=1}^{2N+1}u_j\\varphi_j$\n",
    "Так как данная задача является нелинейной, то записать линйную систему вида: $AU=b$ не получится.\n",
    "Запишим в нелинейном виде: $R(U)=0$, где $R$ - невязка.\n",
    "\n",
    "$$\n",
    "R_i(U) = \\displaystyle\\int\\limits_{a}^{b}\\big[p\\big(x,U,\\frac{dU}{dx}\\big)\\frac{d\\varphi_i}{dx}+r\\big(x,u,\\frac{dU}{dx}\\big)\\varphi_i\\big]dx - \\alpha U(b)\\varphi_i(b)+p_b\\varphi_i(b) = 0\n",
    "$$\n",
    "\n",
    "Получаем систему нелинейных уравнений.\n",
    "\n",
    "Причем, последнее слагаемое в этом уравнении не равно нуляю только в последней строке, т.е. $\\alpha U(b)\\varphi_i(b)+p_b\\varphi_i(b) = 0 \\quad \\forall \\quad i=1,...,2(N-1)$\n",
    "\n",
    "$$\n",
    "R_i(U) = \\sum_{k=0}^{N-1}\\displaystyle\\int\\limits_{x_{2k}}^{x_{2k+2}}\\big[p(x,U, \\frac{dU}{dx})\\frac{\\varphi_i}{dx}+r\\varphi_i\\big]dx, \\quad i=1,...,2N-2\n",
    "$$\n",
    "\n",
    "В локальных координатах:\n",
    "\n",
    "$$\n",
    "R_{loc, 0}^k(U) = h\\displaystyle\\int\\limits_{\\frac14}^{4}\\big[\\frac1hp\\frac{d\\varphi_{loc, 0}(X)}{dX}+r\\varphi_{loc, 0}\\big]dX\\\\\n",
    "R_{loc, 1}^k(U) = h\\displaystyle\\int\\limits_{\\frac14}^{4}\\big[\\frac1hp\\frac{d\\varphi_{loc, 1}(X)}{dX}+r\\varphi_{loc, 1}\\big]dX\\\\\n",
    "R_{loc, 2}^k(U) = h\\displaystyle\\int\\limits_{\\frac14}^{4}\\big[\\frac1hp\\frac{d\\varphi_{loc, 2}(X)}{dX}+r\\varphi_{loc, 2}\\big]dX\n",
    "$$\n",
    "\n",
    "После вычисления этих интегралов их нужно добавить к значениям с соответсвующими индексами:\n",
    "\n",
    "$$\n",
    "R_{2k}=R_{2k}+R_{loc, 0}^{(k)}\\\\\n",
    "R_{2k+1}=R_{2k+1}+R_{loc, 1}^{(k)}\\\\\n",
    "R_{2k+2}=R_{2k+2}+R_{loc,2}^{(k)}\n",
    "$$"
   ]
  },
  {
   "cell_type": "markdown",
   "id": "17934cdb",
   "metadata": {},
   "source": [
    "### Задание 2"
   ]
  },
  {
   "cell_type": "code",
   "execution_count": 1,
   "id": "d99ef40a",
   "metadata": {},
   "outputs": [],
   "source": [
    "import numpy as np\n",
    "import matplotlib.pyplot as plt\n",
    "import math\n",
    "import scipy"
   ]
  },
  {
   "cell_type": "code",
   "execution_count": 5,
   "id": "67ffbb1c",
   "metadata": {},
   "outputs": [],
   "source": [
    "def defineFuncP(u):\n",
    "    return (1 + u)\n",
    "\n",
    "def defineFuncF (u):\n",
    "    return (-1/(4 * u * u *u))"
   ]
  },
  {
   "cell_type": "code",
   "execution_count": 72,
   "id": "474c9c5a",
   "metadata": {},
   "outputs": [],
   "source": [
    "def loc(x, U, k):\n",
    "    \n",
    "    h = x[k + 1] - x[k]\n",
    "    R_loc = np.zeros(2)\n",
    "    \n",
    "    M = 3\n",
    "    GaussQWeight = [5/18, 4/9, 5/18]\n",
    "    GaussQPoint = [1/2 * (1 - math.sqrt(3/5)), 1/2, 1/2 * (1 + math.sqrt(3/5))]\n",
    "    \n",
    "    for m in range(M):\n",
    "        X = GaussQPoint[m]\n",
    "        phi_loc = [1 - X, X]\n",
    "        phi_locPr = [-1, 1]\n",
    "            \n",
    "        u_loc = U[k] * phi_loc[0] + U[k + 1] * phi_loc[1]\n",
    "        u_locPr = U[k] * phi_locPr[0] + U[k + 1] * phi_locPr[1]\n",
    "            \n",
    "        valueP = defineFuncP(u_loc)\n",
    "        valueF = defineFuncF(u_loc)\n",
    "        \n",
    "        for i in range (2):\n",
    "            R_loc[i] = R_loc[i] + (h * GaussQWeight[m] * (1 / (h * h) * valueP * u_locPr * phi_locPr[i] + valueF * phi_loc[i]))\n",
    "    return R_loc"
   ]
  },
  {
   "cell_type": "code",
   "execution_count": 73,
   "id": "8c241570",
   "metadata": {},
   "outputs": [],
   "source": [
    "def glob(x, U):\n",
    "    N = len(x) - 1\n",
    "    R = np.zeros(N + 1)\n",
    "    for k in range(0, N):\n",
    "        r_loc = loc(x, U, k)\n",
    "        R[k:k+2] += r_loc\n",
    "\n",
    "    R[0] = U[0] - 1/2\n",
    "    R[N] = R[N] - 3/4\n",
    "    return R"
   ]
  },
  {
   "cell_type": "code",
   "execution_count": 74,
   "id": "c3a21c5e",
   "metadata": {},
   "outputs": [],
   "source": [
    "N = 50\n",
    "x = np.linspace(1/4, 4, N)\n",
    "U0 = np.zeros(len(x)) + 1"
   ]
  },
  {
   "cell_type": "code",
   "execution_count": 75,
   "id": "d6400b03",
   "metadata": {},
   "outputs": [
    {
     "data": {
      "text/plain": [
       " message: The solution converged.\n",
       " success: True\n",
       "  status: 1\n",
       "     fun: [ 0.000e+00  3.328e-07 ... -3.410e-07  2.502e-07]\n",
       "       x: [ 5.000e-01  5.715e-01 ...  1.981e+00  2.000e+00]\n",
       "    nfev: 62\n",
       "    fjac: [[-3.825e-02  9.993e-01 ... -2.020e-05  1.168e-04]\n",
       "           [-7.534e-02 -2.856e-03 ... -4.709e-02  6.524e-02]\n",
       "           ...\n",
       "           [ 2.305e-01  8.841e-03 ... -3.225e-01 -2.395e-01]\n",
       "           [-1.157e-01 -4.460e-03 ... -2.242e-01 -2.279e-01]]\n",
       "       r: [-2.614e+01  5.158e+01 ...  2.719e+00 -1.322e-01]\n",
       "     qtf: [ 1.512e-06 -4.823e-07 ... -1.718e-07  4.774e-09]"
      ]
     },
     "execution_count": 75,
     "metadata": {},
     "output_type": "execute_result"
    }
   ],
   "source": [
    "R = lambda U: glob(x, U)\n",
    "res = scipy.optimize.root(R, U0)\n",
    "res"
   ]
  },
  {
   "cell_type": "code",
   "execution_count": 77,
   "id": "5ea0366e",
   "metadata": {},
   "outputs": [
    {
     "name": "stdout",
     "output_type": "stream",
     "text": [
      "[0.5        0.57146424 0.6349222  0.69258411 0.74579798 0.7954581\n",
      " 0.84219394 0.88646848 0.92863402 0.96896605 1.00768485 1.0449698\n",
      " 1.08096933 1.11580788 1.14959104 1.18240929 1.21434087 1.24545399\n",
      " 1.27580854 1.30545744 1.33444774 1.36282147 1.39061636 1.41786647\n",
      " 1.44460263 1.47085287 1.49664275 1.52199568 1.54693314 1.57147492\n",
      " 1.59563928 1.6194431  1.64290206 1.66603073 1.68884268 1.71135058\n",
      " 1.73356626 1.75550082 1.77716468 1.79856761 1.81971883 1.840627\n",
      " 1.86130033 1.88174654 1.90197297 1.92198655 1.94179387 1.96140116\n",
      " 1.98081439 2.00003919]\n"
     ]
    },
    {
     "data": {
      "image/png": "[encoded data removed]",
      "text/plain": [
       "<Figure size 640x480 with 1 Axes>"
      ]
     },
     "metadata": {},
     "output_type": "display_data"
    }
   ],
   "source": [
    "U = res.x\n",
    "\n",
    "plt.plot(x, U, linewidth = 4, color = \"darkblue\")\n",
    "plt.plot(x, x**0.5,linewidth = 2, color = \"lime\")\n",
    "plt.show()\n"
   ]
  },
  {
   "cell_type": "markdown",
   "id": "b679f5f4",
   "metadata": {},
   "source": [
    "#### Сравнение точного и приближенного решений"
   ]
  },
  {
   "cell_type": "code",
   "execution_count": 89,
   "id": "0aad43a0",
   "metadata": {},
   "outputs": [
    {
     "name": "stdout",
     "output_type": "stream",
     "text": [
      "Численное решение точно до четвертого порядка\n"
     ]
    }
   ],
   "source": [
    "eps = 0.0001\n",
    "flag = True\n",
    "\n",
    "for i in range (N):\n",
    "    if (abs(U[i]-x[i]**0.5) > eps):\n",
    "        flag = False\n",
    "        \n",
    "if (flag == True):\n",
    "    print (\"Численное решение точно до четвертого порядка\")"
   ]
  },
  {
   "cell_type": "markdown",
   "id": "f8d9fc2f",
   "metadata": {},
   "source": [
    "#### Исследование зависимоти погрешности от качества сетки"
   ]
  },
  {
   "cell_type": "code",
   "execution_count": 100,
   "id": "7f85e36f",
   "metadata": {},
   "outputs": [
    {
     "name": "stdout",
     "output_type": "stream",
     "text": [
      "Максимальная погрешность для сетки с 25 узлами = 0.00027241593776361483\n",
      "Максимальная погрешность для сетки с 50 узлами =  6.350317118719584e-05\n",
      "Максимальная погрешность для сетки с 100 узлами =  1.542050459668598e-05\n",
      "Минимальная из максимальных погрешностей =  1.542050459668598e-05\n"
     ]
    }
   ],
   "source": [
    "N = 25\n",
    "x = np.linspace(1/4, 4, N)\n",
    "U0 = np.zeros(len(x)) + 1\n",
    "R_25 = lambda U_25: glob(x, U_25)\n",
    "res = scipy.optimize.root(R_25, U0)\n",
    "U_25 = res.x\n",
    "\n",
    "pogr_1 = np.zeros(N)\n",
    "for i in range (N):\n",
    "    pogr_1[i] = abs(U_25[i] - x[i]**0.5)\n",
    "maxPogr_1 = max(pogr_1)\n",
    "print ('Максимальная погрешность для сетки с 25 узлами =', maxPogr_1)\n",
    "\n",
    "\n",
    "N = 50\n",
    "x = np.linspace(1/4, 4, N)\n",
    "U0 = np.zeros(len(x)) + 1\n",
    "R_50 = lambda U_50: glob(x, U_50)\n",
    "res = scipy.optimize.root(R_50, U0)\n",
    "U_50 = res.x\n",
    "\n",
    "pogr_2 = np.zeros(N)\n",
    "for i in range (N):\n",
    "    pogr_2[i] = abs(U_50[i] - x[i]**0.5)\n",
    "maxPogr_2 = max(pogr_2)\n",
    "print ('Максимальная погрешность для сетки с 50 узлами = ', maxPogr_2)\n",
    "\n",
    "N = 100\n",
    "x = np.linspace(1/4, 4, N)\n",
    "U0 = np.zeros(len(x)) + 1\n",
    "R_100 = lambda U_100: glob(x, U_100)\n",
    "res = scipy.optimize.root(R_100, U0)\n",
    "U_100 = res.x\n",
    "\n",
    "pogr_3 = np.zeros(N)\n",
    "for i in range (N):\n",
    "    pogr_3[i] = abs(U_100[i] - x[i]**0.5)\n",
    "maxPogr_3 = max(pogr_3)\n",
    "print ('Максимальная погрешность для сетки с 100 узлами = ', maxPogr_3)\n",
    "\n",
    "print ('Минимальная из максимальных погрешностей = ', min (maxPogr_1, maxPogr_2, maxPogr_3))"
   ]
  },
  {
   "cell_type": "markdown",
   "id": "e52134bf",
   "metadata": {},
   "source": [
    "Проведя эксперименты для сеток размерности: $\\quad N = 25,\\quad N = 50,\\quad N = 100\\quad$ было выявлено, что при увеличении количества узлов сетки максимальная разница между точным и приближенным решением уменьшается. То есть, на больших сетках численное решение получается более точным."
   ]
  },
  {
   "cell_type": "markdown",
   "id": "721ca0c2",
   "metadata": {},
   "source": [
    "#### Для базисных функций второго порядка"
   ]
  },
  {
   "cell_type": "code",
   "execution_count": 12,
   "id": "97893cbf",
   "metadata": {},
   "outputs": [],
   "source": [
    "def locKv(x, U, k):\n",
    "    \n",
    "    h = x[k + 2] - x[k]\n",
    "    R_loc = np.zeros(3)\n",
    "    \n",
    "    M = 3\n",
    "    GaussQWeight = [5/18, 4/9, 5/18]\n",
    "    GaussQPoint = [1/2 * (1 - math.sqrt(3/5)), 1/2, 1/2 * (1 + math.sqrt(3/5))]\n",
    "    \n",
    "    for m in range(M):\n",
    "        X = GaussQPoint[m]\n",
    "        phi_loc = [2 * (1 - X) * (0.5 - X), 4 * X * (1 - X), 2 * X * (X - 0.5)]\n",
    "        phi_locPr = [4 * X - 3, 4 - 8 * X, 4 * X - 1]\n",
    "            \n",
    "        u_loc = U[k] * phi_loc[0] + U[k + 1] * phi_loc[1] + U[k + 2] * phi_loc[2]\n",
    "        u_locPr = U[k] * phi_locPr[0] + U[k + 1] * phi_locPr[1] + U[k + 2] * phi_locPr[2]\n",
    "            \n",
    "        valueP = defineFuncP(u_loc)\n",
    "        valueF = defineFuncF(u_loc)\n",
    "        \n",
    "        for i in range (3):\n",
    "            R_loc[i] = R_loc[i] + (h * GaussQWeight[m] * (1 / (h * h) * valueP * u_locPr * phi_locPr[i] + valueF * phi_loc[i]))\n",
    "    return R_loc"
   ]
  },
  {
   "cell_type": "code",
   "execution_count": 16,
   "id": "63185983",
   "metadata": {},
   "outputs": [],
   "source": [
    "def globKv(x, U):\n",
    "    N = len(x)//2\n",
    "    R = np.zeros(2 * N + 1)\n",
    "    for k in range(0, N):\n",
    "        #print (k)\n",
    "        r_loc = locKv(x, U, 2*k)\n",
    "        R[2 * k:2 * k + 2 + 1] += r_loc\n",
    "\n",
    "    R[0] = U[0] - 1/2\n",
    "    R[2 * N] = R[2 * N] - 3/4\n",
    "    return R"
   ]
  },
  {
   "cell_type": "code",
   "execution_count": 18,
   "id": "3334001d",
   "metadata": {},
   "outputs": [
    {
     "name": "stdout",
     "output_type": "stream",
     "text": [
      " message: The solution converged.\n",
      " success: True\n",
      "  status: 1\n",
      "     fun: [ 0.000e+00  5.807e-07 ... -4.428e-07  5.585e-07]\n",
      "       x: [ 5.000e-01  5.362e-01 ...  1.991e+00  2.000e+00]\n",
      "    nfev: 113\n",
      "    fjac: [[-1.395e-02  9.922e-01 ... -2.635e-06  2.392e-05]\n",
      "           [ 3.928e-02 -1.233e-01 ...  9.023e-03 -1.923e-02]\n",
      "           ...\n",
      "           [ 1.324e-01  2.369e-03 ... -2.138e-01 -1.426e-01]\n",
      "           [-8.058e-02 -1.515e-03 ... -1.614e-01 -1.631e-01]]\n",
      "       r: [-7.167e+01  1.495e+02 ...  4.848e+00 -1.138e-01]\n",
      "     qtf: [ 2.267e-06 -4.642e-07 ... -2.234e-07  6.222e-09]\n"
     ]
    },
    {
     "data": {
      "image/png": "[encoded data removed]",
      "text/plain": [
       "<Figure size 640x480 with 1 Axes>"
      ]
     },
     "metadata": {},
     "output_type": "display_data"
    }
   ],
   "source": [
    "N = 50\n",
    "x_element_bord = np.linspace(1/4, 4, N + 1)\n",
    "x = np.zeros(2*N + 1)\n",
    "i = 0\n",
    "index = 0\n",
    "for i in range (N + 1):\n",
    "    x[index] = x_element_bord[i]\n",
    "    index = index + 2\n",
    "    \n",
    "for i in range (1, 2*N + 1, 2):\n",
    "    if (x[i] == 0):\n",
    "        x[i] = 0.5 * (x[i-1]+x[i+1])\n",
    "\n",
    "\n",
    "U0 = np.zeros(len(x)) + 1\n",
    "R = lambda U: globKv(x, U)\n",
    "res = scipy.optimize.root(R, U0)\n",
    "res\n",
    "U = res.x\n",
    "\n",
    "print (res)\n",
    "\n",
    "plt.plot(x, U, linewidth = 4, color = \"darkblue\")\n",
    "plt.plot(x, x**0.5,linewidth = 2, color = \"lime\")\n",
    "plt.show()\n"
   ]
  },
  {
   "cell_type": "markdown",
   "id": "a8046e43",
   "metadata": {},
   "source": [
    "#### Сравнение точного и приближенного решений"
   ]
  },
  {
   "cell_type": "code",
   "execution_count": 24,
   "id": "f2c7a077",
   "metadata": {},
   "outputs": [
    {
     "name": "stdout",
     "output_type": "stream",
     "text": [
      "Численное решение точно до шестого порядка\n"
     ]
    }
   ],
   "source": [
    "eps = 0.000001\n",
    "flag = True\n",
    "\n",
    "for i in range (N):\n",
    "    if (abs(U[i]-x[i]**0.5) > eps):\n",
    "        flag = False\n",
    "        \n",
    "if (flag == True):\n",
    "    print (\"Численное решение точно до шестого порядка\")"
   ]
  },
  {
   "cell_type": "markdown",
   "id": "48688b60",
   "metadata": {},
   "source": [
    "Видно, что при использовании базтсных функций второго порядка численное решение находится точнее."
   ]
  },
  {
   "cell_type": "markdown",
   "id": "9e010df5",
   "metadata": {},
   "source": [
    "#### Исследование зависимоти погрешности от качества сетки"
   ]
  },
  {
   "cell_type": "code",
   "execution_count": 27,
   "id": "bdba463e",
   "metadata": {},
   "outputs": [
    {
     "name": "stdout",
     "output_type": "stream",
     "text": [
      "Максимальная погрешность для сетки с 25 узлами = 9.72269566024142e-06\n",
      "Максимальная погрешность для сетки с 50 узлами =  8.854444749628598e-07\n",
      "Максимальная погрешность для сетки с 100 узлами =  7.578433669497286e-08\n",
      "Минимальная из максимальных погрешностей =  7.578433669497286e-08\n"
     ]
    }
   ],
   "source": [
    "N = 25\n",
    "\n",
    "x_element_bord = np.linspace(1/4, 4, N + 1)\n",
    "x = np.zeros(2*N + 1)\n",
    "i = 0\n",
    "index = 0\n",
    "for i in range (N + 1):\n",
    "    x[index] = x_element_bord[i]\n",
    "    index = index + 2\n",
    "    \n",
    "for i in range (1, 2*N + 1, 2):\n",
    "    if (x[i] == 0):\n",
    "        x[i] = 0.5 * (x[i-1]+x[i+1])\n",
    "\n",
    "U0 = np.zeros(len(x)) + 1\n",
    "R_25 = lambda U_25: globKv(x, U_25)\n",
    "res = scipy.optimize.root(R_25, U0)\n",
    "U_25 = res.x\n",
    "\n",
    "pogr_1 = np.zeros(N)\n",
    "for i in range (N):\n",
    "    pogr_1[i] = abs(U_25[i] - x[i]**0.5)\n",
    "maxPogr_1 = max(pogr_1)\n",
    "print ('Максимальная погрешность для сетки с 25 узлами =', maxPogr_1)\n",
    "\n",
    "\n",
    "N = 50\n",
    "\n",
    "x_element_bord = np.linspace(1/4, 4, N + 1)\n",
    "x = np.zeros(2*N + 1)\n",
    "i = 0\n",
    "index = 0\n",
    "for i in range (N + 1):\n",
    "    x[index] = x_element_bord[i]\n",
    "    index = index + 2\n",
    "    \n",
    "for i in range (1, 2*N + 1, 2):\n",
    "    if (x[i] == 0):\n",
    "        x[i] = 0.5 * (x[i-1]+x[i+1])\n",
    "\n",
    "U0 = np.zeros(len(x)) + 1\n",
    "R_50 = lambda U_50: globKv(x, U_50)\n",
    "res = scipy.optimize.root(R_50, U0)\n",
    "U_50 = res.x\n",
    "\n",
    "pogr_2 = np.zeros(N)\n",
    "for i in range (N):\n",
    "    pogr_2[i] = abs(U_50[i] - x[i]**0.5)\n",
    "maxPogr_2 = max(pogr_2)\n",
    "print ('Максимальная погрешность для сетки с 50 узлами = ', maxPogr_2)\n",
    "\n",
    "N = 100\n",
    "\n",
    "x_element_bord = np.linspace(1/4, 4, N + 1)\n",
    "x = np.zeros(2*N + 1)\n",
    "i = 0\n",
    "index = 0\n",
    "for i in range (N + 1):\n",
    "    x[index] = x_element_bord[i]\n",
    "    index = index + 2\n",
    "    \n",
    "for i in range (1, 2*N + 1, 2):\n",
    "    if (x[i] == 0):\n",
    "        x[i] = 0.5 * (x[i-1]+x[i+1])\n",
    "\n",
    "U0 = np.zeros(len(x)) + 1\n",
    "R_100 = lambda U_100: globKv(x, U_100)\n",
    "res = scipy.optimize.root(R_100, U0)\n",
    "U_100 = res.x\n",
    "\n",
    "pogr_3 = np.zeros(N)\n",
    "for i in range (N):\n",
    "    pogr_3[i] = abs(U_100[i] - x[i]**0.5)\n",
    "maxPogr_3 = max(pogr_3)\n",
    "print ('Максимальная погрешность для сетки с 100 узлами = ', maxPogr_3)\n",
    "\n",
    "print ('Минимальная из максимальных погрешностей = ', min (maxPogr_1, maxPogr_2, maxPogr_3))"
   ]
  },
  {
   "cell_type": "markdown",
   "id": "862b7601",
   "metadata": {},
   "source": [
    "Проведя аналогичные эксперименты для базисных функцийвторого порядка для сеток размерности: $\\quad N = 25,\\quad N = 50,\\quad N = 100\\quad$ было также выявлено, что при увеличении количества узлов сетки максимальная разница между точным и приближенным решением уменьшается. То есть, на больших сетках численное решение получается более точным.\n",
    "\n",
    "Также, можно заметить, что при использовании базисных функций второго порядка максимальная погрешность уменьшилась на $2 - 3$ порядка при соответсвующем увеличении сетки."
   ]
  },
  {
   "cell_type": "markdown",
   "id": "d8ab5d47-9196-4dae-95f2-fa8866cfdf26",
   "metadata": {},
   "source": [
    "### Литература\n",
    "\n",
    "1. Whiteley J., Finite Element Methods: A Practical Guide, 2017\n",
    "2. Соловейчик, Рояк, Персова, Метод конечных элементов для решения скалярных и векторных задач, Новосибирск, 2007."
   ]
  }
 ],
 "metadata": {
  "kernelspec": {
   "display_name": "Python 3 (ipykernel)",
   "language": "python",
   "name": "python3"
  },
  "language_info": {
   "codemirror_mode": {
    "name": "ipython",
    "version": 3
   },
   "file_extension": ".py",
   "mimetype": "text/x-python",
   "name": "python",
   "nbconvert_exporter": "python",
   "pygments_lexer": "ipython3",
   "version": "3.10.9"
  }
 },
 "nbformat": 4,
 "nbformat_minor": 5
}
