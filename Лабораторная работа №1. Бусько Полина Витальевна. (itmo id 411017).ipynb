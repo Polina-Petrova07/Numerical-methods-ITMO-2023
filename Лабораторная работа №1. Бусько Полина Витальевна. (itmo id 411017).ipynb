{
 "cells": [
  {
   "cell_type": "markdown",
   "id": "019bc1d5",
   "metadata": {},
   "source": [
    "# Лабораторная работа №1 \n",
    "## Практические основы МКЭ. Повторение численных методов линейной алгебры\n"
   ]
  },
  {
   "cell_type": "markdown",
   "id": "934064ec",
   "metadata": {},
   "source": [
    "### Введение\n",
    "\n",
    "Решение задачи теплопроводности - актуальная задача в современном мире. В наше время разрабатывается множество новых материалов. Знания об их теплопроводности позволят не только широко их использовать, но и подробно изучить их свойства при том или ином воздействии. Для этого с веществами проводят различные эксперименты.\n",
    "Температурное поле - совокупность значений температуры во всех точках данной области и во времени. В нашем случае задача одномерная и стационарная (не зависит от времени), пожотму температурное поле характеризуется одной координатой - координатой х.\n",
    "Существует три способа теплопередачи:\n",
    "1. Излучение (пример: бутылка с водой на солнце)\n",
    "2. Ковекция - перенос вещества за счет механического перемещения теплого вещества\n",
    "3. Теплопроводность\n",
    "\n",
    "Теплоповодность - единственный способ передачи теплоты в твердых телах.\n",
    "\n"
   ]
  },
  {
   "cell_type": "markdown",
   "id": "8e821696",
   "metadata": {},
   "source": [
    "### Задание 1\n",
    "#### Условие задачи\n",
    "Имеется однородный стержень из электро- и теплопроводящего материала диаметром 2мм и длиной 20см. Один конец стержня помещен в лёд, а другой в кипящую воду. Через стержень пропускают постоянный электрический ток. Предполагая, что удельная объёмная мощность тепловыделения за счёт нагрева током $Q = 7 \\frac{W}{m^3}$, а коэффициент теплопроводности материала стрежня $k = 1 \\frac{W}{m*K}$. Нужной найти распределение температуры по длине стрежня.\n",
    "![рисунок 1](pictures/pic_1.png)\n",
    "\n",
    "\n",
    "\n"
   ]
  },
  {
   "cell_type": "markdown",
   "id": "2ce7e089",
   "metadata": {},
   "source": [
    "#### Математическая постановка задачи\n",
    "\n",
    "Запишем стационарное уравнение теплопроводности: $-\\frac{d}{dx}(k(x)\\frac{dU}{dx})=Q(x)$\n",
    "\n",
    "$k(x)>0$ - коэффициент теплопроводности\n",
    "\n",
    "$f(x)$ - плотность источников (стоков) тепла в поперечном сечении стержня, в следствии, в нашем случае, выделения тепла электрическим током\n",
    "\n",
    "$k(x) = 1\\frac{W}{m*K}$\n",
    "\n",
    "$Q = 7\\frac{W}{m^3}$\n",
    "\n",
    "$U(0) = T_0 = 0^{\\circ}C$\n",
    "\n",
    "$U(0.2) = T_1 = 100^{\\circ}C$\n",
    "\n",
    "Запишем получившуюся математическую постановку:\n",
    "\n",
    "\\begin{cases}\n",
    "   -\\frac{d^2U}{dx^2}=7\\\\\n",
    "   U(0) = 0\\\\\n",
    "   U(0.2) = 100\n",
    "\\end{cases}\n",
    "\n",
    "Решим деффиринциальное уравнение:\n",
    "\n",
    "$\\frac{dU}{dx} = -7x + C_1$\n",
    "\n",
    "$dU = (-7x + C_1)dx$\n",
    "\n",
    "$\\displaystyle\\int{dU} = \\displaystyle\\int(-7x + C_1)dx$\n",
    "\n",
    "$U(x) = -\\frac72x^2 + C_1x + C_2$\n",
    "\n",
    "Для нахождения констант $C_1$ и $C_2$ подставим заданные граничные условия:\n",
    "\n",
    "$U(0) = C_2 = 0$\n",
    "\n",
    "$U(0.2) = -\\frac72 \\cdot\\frac{4}{100} + 0.2C_1$\n",
    "\n",
    "$-\\frac{7}{50}+0.2C_1 = 100$\n",
    "\n",
    "$0.2C_1 = 100 + \\frac{7}{50}$\n",
    "\n",
    "$0.2C_1 = \\frac{5007}{50}$\n",
    "\n",
    "$C_1 = 500.7$\n",
    "\n",
    "Итого получаем: $U(x) = -\\frac72x^2 + 500.7x$"
   ]
  },
  {
   "cell_type": "markdown",
   "id": "3d831b33",
   "metadata": {},
   "source": [
    "#### Обобщенная поставновка задачи\n",
    "\n",
    "Введем пробную функцию $v(x)$, пучть она будет непрерывной.\n",
    "\n",
    "$v(0) = v(0.2) = 0$ - удовлетворяет граничным условиям.\n",
    "\n",
    "Домножим обе части урвнения на эту функцию и проинтегрируем по заданному отрезку:\n",
    "\n",
    "$\\displaystyle\\int\\limits_{0}^{0.2} -\\frac{d^2U}{dx^2}v(x)\\,dx = \\displaystyle\\int\\limits_{0}^{0.2} 7v(x)\\, dx$\n",
    "\n",
    "Проинтегрируем правую часть по частям:\n",
    "\n",
    "$\\displaystyle\\int\\limits_{0}^{0.2} -\\frac{d^2U}{dx^2}v(x)\\,dx = \\displaystyle\\int\\limits_{0}^{0.2} \\frac{dU}{dx}\\cdot\\frac{dv}{dx}dx - v(x)\\frac{dU}{dx} \\bigg|_{0}^{0.2} = \\displaystyle\\int\\limits_{0}^{0.2} \\frac{dU}{dx}\\cdot\\frac{dv}{dx}dx$\n",
    "\n",
    "$\\displaystyle\\int\\limits_{0}^{0.2} \\frac{dU}{dx}\\cdot\\frac{dv}{dx}dx = \\displaystyle\\int\\limits_{0}^{0.2} 7v(x)\\, dx $ - обощенная постановка задачи.\n",
    "\n",
    "#### Введем сетку элементов\n",
    "\n",
    "![рисунок 2](pictures/pic_2.png)\n",
    "\n",
    "Сетка $\\{x_j\\}_{j=0}^{N}$, шаг $h = x_{j+1} - x_j;$  $\\forall j =\\overline{0,N-1}$\n",
    "\n",
    "#### Система базисных функций $\\{\\varphi_j(x)\\}_{j=0}^{N}$\n",
    "\n",
    "![рисунок 3](pictures/pic_3.png)\n",
    "\n",
    "$\\varphi_0(x) = \n",
    "\\begin{cases}\n",
    "   \\frac{x_1-x}{h},\\quad x_0\\leq x \\leq x_1\\\\\n",
    "   0, \\quad иначе\\\\\n",
    "\\end{cases}$\n",
    "\n",
    "$\\varphi_j(x) = \n",
    "\\begin{cases}\n",
    "   \\frac{x-x_{j-1}}{h},\\quad x_{j-1}\\leq x \\leq x_j\\\\\n",
    "   \\frac{x_{j+1} - x}{h},\\quad x_{j}\\leq x \\leq x_{j+1}\\\\\n",
    "\\end{cases}\n",
    "$\n",
    "\n",
    "$\\varphi_N(x) = \n",
    "\\begin{cases}\n",
    "   \\frac{x-x_{j-1}}{h},\\quad x_{N-1}\\leq x \\leq x_N\\\\\n",
    "   0, \\quad иначе\\\\\n",
    "\\end{cases}$\n",
    "\n",
    "#### Приближенное решение\n",
    "\n",
    "Приближенное решение будем искать в виде линейной комбинации $\\{\\varphi_j(x)\\}_{j=0}^{N}: \\quad V(x) = \\sum_{j=0}^NU_j\\varphi_i(x)$ $\\quad (V(x)$ - приближенное решение)\n",
    "\n",
    "Подставим это выражение в обобщенную форму задачи:\n",
    "\n",
    "$\\displaystyle\\int\\limits_{0}^{0.2}\\bigg(\\sum_{j=0}^NU_j \\frac{d\\varphi_j(x)}{dx}\\bigg)\\cdot\\frac{d\\varphi_i(x)}{dx}dx = \\displaystyle\\int\\limits_{0}^{0.2} 7\\varphi_i(x)\\, dx \\quad$ интеграл и сумму можем поменять местами, тогда получим:\n",
    "\n",
    "$\\sum_{j=0}^NU_j\\displaystyle\\int\\limits_{0}^{0.2}\\frac{d\\varphi_i}{dx}\\frac{d\\varphi_i}{dx}dx = \\displaystyle\\int\\limits_{0}^{0.2}7\\varphi_i(x)\\, dx \\quad i=\\overline{0,N-1} $\n",
    "\n",
    "Обозначим:\n",
    "\n",
    "$\\displaystyle\\int\\limits_{0}^{0.2}\\frac{d\\varphi_i}{dx}\\frac{d\\varphi_i}{dx}dx = A_{i,j}, \\quad$\n",
    "$\\displaystyle\\int\\limits_{0}^{0.2}7\\varphi_i(x)dx = b_i$\n",
    "\n",
    "Вычислим вклад в коэффициенты $A_{i,j}$ от $k-ого$ элемента\n",
    "![рисунок 4](pictures/pic_4.png)\n",
    "\n",
    "$A_{i,j} = \\sum_{k=0}^{N-1}\\displaystyle\\int\\limits_{x_k}^{x_{k+1}}\\frac{d\\varphi_i}{dx}\\frac{d\\varphi_i}{dx}dx$\n",
    "\n",
    "\n",
    "$A_{loc}^{(k)} =\n",
    "\\begin{bmatrix} \n",
    "\\displaystyle\\int\\limits_{x_k}^{x_{k+1}}\\frac{d\\varphi_k}{dx}\\frac{d\\varphi_k}{dx}dx &\n",
    "\\displaystyle\\int\\limits_{x_k}^{x_{k+1}}\\frac{d\\varphi_k}{dx}\\frac{d\\varphi_{k+1}}{dx}dx \\\\ \n",
    "\\displaystyle\\int\\limits_{x_k}^{x_{k+1}}\\frac{d\\varphi_{k+1}}{dx}\\frac{d\\varphi_k}{dx}dx & \\displaystyle\\int\\limits_{x_k}^{x_{k+1}}\\frac{d\\varphi_{k+1}}{dx}\\frac{d\\varphi_{k+1}}{dx}dx \n",
    "\\end{bmatrix} \\quad $ - локальная матрица жесткости\n",
    "\n",
    "В изначально нудевую матрицу А, будеи поблочно добавлять соответсвующие значения.\n",
    "\n",
    "$b_{loc}^{(k)} =\n",
    "\\begin{bmatrix}\n",
    "\\displaystyle\\int\\limits_{x_k}^{x_{k+1}}7\\varphi_k(x)\\, dx \\\\\n",
    "\\displaystyle\\int\\limits_{x_k}^{x_{k+1}}7\\varphi_{k+1}(x)\\, dx\n",
    "\\end{bmatrix}\n",
    "$\n",
    "\n",
    "Столбец b получаем аналгоично матрице, то есть после вычисления меняем соответсвующие локальные элементы.\n",
    "\n",
    "#### Вычислим компоненты локальной матрицы жесткости\n",
    "\n",
    "$\\displaystyle\\int\\limits_{x_k}^{x_{k+1}}\\frac{d\\varphi_k}{dx}\\frac{d\\varphi_k}{dx}dx$\n",
    "\n",
    "$\\frac{d\\varphi_k}{dx} = \\frac{d}{dx}\\big{(}\\frac{x_{k+1}-x_k}{h}\\big{)} = \\frac{d}{dx}\\big{(}-\\frac{x}{h}\\big{)} = -\\frac1h\\quad$ подставим это в интеграл:\n",
    "\n",
    "$\\displaystyle\\int\\limits_{x_k}^{x_{k+1}}\\frac{d\\varphi_k}{dx}\\frac{d\\varphi_k}{dx}dx = \\displaystyle\\int\\limits_{x_k}^{x_{k+1}}\\big{(}-\\frac1h\\big{)}^2dx = \\frac1h$\n",
    "\n",
    "$\\displaystyle\\int\\limits_{x_k}^{x_{k+1}}\\frac{d\\varphi_k}{dx}\\frac{d\\varphi_{k+1}}{dx}dx = \\displaystyle\\int\\limits_{x_k}^{x_{k+1}}\\big{(}-\\frac1h\\big{)}\\cdot\\frac1hdx = -\\frac1h$\n",
    "\n",
    "$\\displaystyle\\int\\limits_{x_k}^{x_{k+1}}\\frac{d\\varphi_{k+1}}{dx}\\frac{d\\varphi_{k}}{dx}dx = \\displaystyle\\int\\limits_{x_k}^{x_{k+1}}\\frac1h\\cdot\\big{(}-\\frac1h\\big{)}dx = -\\frac1h$\n",
    "\n",
    "$\\displaystyle\\int\\limits_{x_k}^{x_{k+1}}\\frac{d\\varphi_{k+1}}{dx}\\frac{d\\varphi_{k+1}}{dx}dx = \\displaystyle\\int\\limits_{x_k}^{x_{k+1}}\\big{(}\\frac1h\\big{)}^2dx = \\frac1h$\n",
    "\n",
    "Таким образом получаем:\n",
    "\n",
    "$A_{loc}^{(k)} = \\frac1h\n",
    "\\begin{bmatrix} \n",
    "1&{-1}\\\\\n",
    "{-1}&1\n",
    "\\end{bmatrix} \\quad $\n",
    "\n",
    "#### Вычислим компоненты вектора b\n",
    "\n",
    "$\\displaystyle\\int\\limits_{x_k}^{x_{k+1}}7\\varphi_k(x)dx = 7\\displaystyle\\int\\limits_{x_k}^{x_{k+1}}\\varphi_k(x)dx = 7\\cdot\\frac12h = \\frac72h\\quad$, тогда:\n",
    "\n",
    "$b_{loc}^{(k)} = \\frac72h\n",
    "\\begin{bmatrix}\n",
    "1\\\\1\n",
    "\\end{bmatrix}$\n",
    "\n",
    "#### Коррекция глобальной СЛАУ для учета граничных условий\n",
    "\n",
    "Нулевую и последнюю строки глобальной матрицы А мы должны занулить, кроме элементов $A_{00}$ и $A_{NN}$, они равны единице. Соответственно, в столбце b первый элемент $b_0 = 0$, а послдений $b_N = 100$\n"
   ]
  },
  {
   "cell_type": "markdown",
   "id": "11183497",
   "metadata": {},
   "source": [
    "### Программный код"
   ]
  },
  {
   "cell_type": "code",
   "execution_count": 248,
   "id": "f5bacbbf",
   "metadata": {},
   "outputs": [],
   "source": [
    "import numpy as np\n",
    "import matplotlib.pyplot as plt"
   ]
  },
  {
   "cell_type": "code",
   "execution_count": 249,
   "id": "09b96ee2",
   "metadata": {},
   "outputs": [],
   "source": [
    "def functionSolv(N):\n",
    "    \n",
    "    A = np.zeros((N+1,N+1))\n",
    "    b = np.zeros(N+1)\n",
    "\n",
    "    x, h = np.linspace(0, 0.2, N+1, retstep = True)\n",
    "\n",
    "    for k in range(N):\n",
    "        A_loc = np.array([[1/h, -1/h], [-1/h, 1/h]])\n",
    "        b_loc = np.array([(7/2)*h, (7/2)*h])\n",
    "\n",
    "        A[k:k+1+1,k:k+1+1] += A_loc\n",
    "        b[k:k+1+1] += b_loc\n",
    "\n",
    "    A[0,:] = 0; A[0,0] = 1; b[0] = 0 \n",
    "    A[N,:] = 0; A[N, N] = 1; b[N] = 100\n",
    "\n",
    "    U = np.linalg.solve(A,b)\n",
    "\n",
    "    return U, x\n"
   ]
  },
  {
   "cell_type": "code",
   "execution_count": 250,
   "id": "52f64c60",
   "metadata": {},
   "outputs": [],
   "source": [
    "N = 10\n",
    "U, x = functionSolv(N)\n",
    "\n",
    "N1 = 40\n",
    "U1, x1 = functionSolv(N1)"
   ]
  },
  {
   "cell_type": "code",
   "execution_count": 251,
   "id": "0713363d",
   "metadata": {},
   "outputs": [
    {
     "data": {
      "image/png": "[encoded data removed]",
      "text/plain": [
       "<Figure size 640x480 with 1 Axes>"
      ]
     },
     "metadata": {},
     "output_type": "display_data"
    }
   ],
   "source": [
    "plt.plot(x, U, linewidth = 4, color = \"darkblue\")\n",
    "plt.plot(x1, U1, color = \"red\")\n",
    "plt.show()"
   ]
  },
  {
   "cell_type": "markdown",
   "id": "e536db5c",
   "metadata": {},
   "source": [
    "По построенному графику видно, что температура распростороняется от более нагретого конца стержня к более холодному"
   ]
  },
  {
   "cell_type": "markdown",
   "id": "28b1d1de",
   "metadata": {},
   "source": [
    "### Исселедование сходимости метода к точному решению"
   ]
  },
  {
   "cell_type": "code",
   "execution_count": 252,
   "id": "ea721a18",
   "metadata": {},
   "outputs": [],
   "source": [
    "def exactSolv (x):\n",
    "    a = 7/2\n",
    "    exactU = -a*x*x+500.7*x\n",
    "    return exactU"
   ]
  },
  {
   "cell_type": "code",
   "execution_count": 254,
   "id": "db9d8e57",
   "metadata": {},
   "outputs": [],
   "source": [
    "exactU = np.zeros(N + 1)\n",
    "\n",
    "for i in range (N + 1):\n",
    "    exactU[i] = exactSolv(x[i])\n",
    "\n",
    "#print (x)\n",
    "#print (U)\n",
    "#print (exactU)"
   ]
  },
  {
   "cell_type": "code",
   "execution_count": 255,
   "id": "3c9c8925",
   "metadata": {},
   "outputs": [
    {
     "name": "stdout",
     "output_type": "stream",
     "text": [
      "Численное решение точно до седьмого порядка\n"
     ]
    }
   ],
   "source": [
    "eps = 0.0000001\n",
    "flag = True\n",
    "\n",
    "for i in range (N+1):\n",
    "    if (abs(U[i]-exactU[i]) > eps):\n",
    "        flag = False\n",
    "        \n",
    "if (flag == True):\n",
    "    print (\"Численное решение точно до седьмого порядка\")"
   ]
  },
  {
   "cell_type": "markdown",
   "id": "6b962415",
   "metadata": {},
   "source": [
    "### Задание 2\n",
    "#### Реализация метода Зейделя"
   ]
  },
  {
   "cell_type": "code",
   "execution_count": 256,
   "id": "1539b2b9",
   "metadata": {},
   "outputs": [],
   "source": [
    "def Zeydel(A, b):\n",
    "    m = len(A)\n",
    "    x = np.zeros(m)\n",
    "    tochnost = False\n",
    "    pogr = 0.\n",
    "    while not tochnost:\n",
    "        x_new = np.copy(x)\n",
    "        for i in range(m):\n",
    "            s1 = sum(A[i][j] * x_new[j] for j in range(i))\n",
    "            s2 = sum(A[i][j] * x[j] for j in range(i + 1, m))\n",
    "            x_new[i] = (b[i] - s1 - s2) / A[i][i]\n",
    "        pogr = sum(abs(x_new[i] - x[i])  for i in range(m))\n",
    "        tochnost =  pogr < 1e-6\n",
    "        x = x_new\n",
    "    return x"
   ]
  },
  {
   "cell_type": "code",
   "execution_count": 257,
   "id": "34c4a147",
   "metadata": {},
   "outputs": [],
   "source": [
    "def matrixAandB(N):\n",
    "    \n",
    "    A = np.zeros((N+1,N+1))\n",
    "    b = np.zeros(N+1)\n",
    "\n",
    "    x, h = np.linspace(0, 0.2, N+1, retstep = True)\n",
    "\n",
    "    for k in range(N):\n",
    "        A_loc = np.array([[1/h, -1/h], [-1/h, 1/h]])\n",
    "        b_loc = np.array([(7/2)*h, (7/2)*h])\n",
    "\n",
    "        A[k:k+1+1,k:k+1+1] += A_loc\n",
    "        b[k:k+1+1] += b_loc\n",
    "\n",
    "    A[0,:] = 0; A[0,0] = 1; b[0] = 0 \n",
    "    A[N,:] = 0; A[N, N] = 1; b[N] = 100\n",
    "\n",
    "    return A, b"
   ]
  },
  {
   "cell_type": "code",
   "execution_count": 258,
   "id": "d3c38c19",
   "metadata": {},
   "outputs": [],
   "source": [
    "A, b = matrixAandB(N)\n",
    "solvZ = Zeydel(A, b)"
   ]
  },
  {
   "cell_type": "markdown",
   "id": "2d02abdf",
   "metadata": {},
   "source": [
    "#### Сравнение решений"
   ]
  },
  {
   "cell_type": "code",
   "execution_count": 259,
   "id": "5ed313bf",
   "metadata": {},
   "outputs": [],
   "source": [
    "#print (U)\n",
    "#print (solvZ)\n"
   ]
  },
  {
   "cell_type": "code",
   "execution_count": 260,
   "id": "eb45b9f3",
   "metadata": {},
   "outputs": [
    {
     "name": "stdout",
     "output_type": "stream",
     "text": [
      "Решение, найденное методом Зейделя точно с решением, найденным стандартной функцией с точностью до пятого порядка\n"
     ]
    }
   ],
   "source": [
    "eps = 0.00001\n",
    "flag = True\n",
    "\n",
    "for i in range (len(U)):\n",
    "    if (abs(U[i]-solvZ[i]) > eps):\n",
    "        flag = False\n",
    "        \n",
    "if (flag == True):\n",
    "    print (\"Решение, найденное методом Зейделя точно с решением, найденным стандартной функцией с точностью до пятого порядка\")"
   ]
  },
  {
   "cell_type": "code",
   "execution_count": 270,
   "id": "930d5777",
   "metadata": {},
   "outputs": [
    {
     "name": "stdout",
     "output_type": "stream",
     "text": [
      "Численное решение, найденное методом Зейделя точно до пятого порядка\n"
     ]
    }
   ],
   "source": [
    "eps = 0.00001\n",
    "flag = True\n",
    "\n",
    "for i in range (N+1):\n",
    "    if (abs(solvZ[i]-exactU[i]) > eps):\n",
    "        flag = False\n",
    "        \n",
    "if (flag == True):\n",
    "    print (\"Численное решение, найденное методом Зейделя точно до пятого порядка\")"
   ]
  },
  {
   "cell_type": "code",
   "execution_count": 271,
   "id": "aaaeab48",
   "metadata": {},
   "outputs": [
    {
     "data": {
      "text/plain": [
       "[<matplotlib.lines.Line2D at 0x20f9f8cfbb0>]"
      ]
     },
     "execution_count": 271,
     "metadata": {},
     "output_type": "execute_result"
    },
    {
     "data": {
      "image/png": "[encoded data removed]",
      "text/plain": [
       "<Figure size 640x480 with 1 Axes>"
      ]
     },
     "metadata": {},
     "output_type": "display_data"
    }
   ],
   "source": [
    "plt.plot(x, solvZ, color = \"darkblue\")"
   ]
  },
  {
   "cell_type": "markdown",
   "id": "c18d76de",
   "metadata": {},
   "source": [
    "### Задание 3"
   ]
  },
  {
   "cell_type": "code",
   "execution_count": 272,
   "id": "dab7c03e",
   "metadata": {},
   "outputs": [],
   "source": [
    "def buildGilbertMatrix(N):\n",
    "    A = np.zeros((N,N))\n",
    "    b = np.zeros(N)\n",
    "    \n",
    "    \n",
    "    for i in range (1, N + 1):\n",
    "        for j in range (1, N + 1):\n",
    "            A[i - 1][j - 1] = 1/(i+j-1)\n",
    "            \n",
    "    row = 0\n",
    "    for i in range (N):\n",
    "        for j in range (N):\n",
    "            b[i] = b[i] + A[row][j]\n",
    "        row = row + 1\n",
    "        \n",
    "    return A, b"
   ]
  },
  {
   "cell_type": "code",
   "execution_count": 273,
   "id": "fa4d4d1f",
   "metadata": {},
   "outputs": [
    {
     "name": "stdout",
     "output_type": "stream",
     "text": [
      "Точное решение матрицы Гилберта отличается от решениея, найденным снадартной функцией не более, чем на 10^-3\n",
      "Точное решение матрицы Гилберта отличается от решениея, найденным самописным методом Зейделя не более, чем на 10^-3\n"
     ]
    }
   ],
   "source": [
    "N = 4\n",
    "\n",
    "A, b = buildGilbertMatrix(N)\n",
    "exact = np.ones(N)\n",
    "\n",
    "eps = 0.001\n",
    "\n",
    "solv = np.linalg.solve(A, b)\n",
    "flag = True\n",
    "for i in range (len(solv)):\n",
    "    if (abs(exact[i]-solv[i]) > eps):\n",
    "        print (abs(exact[i]-solv[i]))\n",
    "        flag = False        \n",
    "        \n",
    "if (flag == True):\n",
    "    print (\"Точное решение матрицы Гилберта отличается от решениея, найденным снадартной функцией не более, чем на 10^-3\")\n",
    "else:\n",
    "    print (\"Фейл\")\n",
    "\n",
    "\n",
    "solvZeydel = Zeydel(A, b)\n",
    "flag = True\n",
    "for i in range (len(solvZeydel)):\n",
    "    if (abs(exact[i]-solvZeydel[i]) > eps):\n",
    "        print (abs(exact[i]-solvZeydel[i]))\n",
    "        flag = False        \n",
    "        \n",
    "if (flag == True):\n",
    "    print (\"Точное решение матрицы Гилберта отличается от решениея, найденным самописным методом Зейделя не более, чем на 10^-3\")\n",
    "else:\n",
    "    print (\"Фейл\")"
   ]
  },
  {
   "cell_type": "markdown",
   "id": "3aa9342a",
   "metadata": {},
   "source": [
    "#### Невязка"
   ]
  },
  {
   "cell_type": "code",
   "execution_count": 274,
   "id": "6bb197eb",
   "metadata": {},
   "outputs": [
    {
     "name": "stdout",
     "output_type": "stream",
     "text": [
      "[0. 0. 0. 0.]\n",
      "[-1.88133216e-08  5.79662722e-08 -5.05585884e-08  0.00000000e+00]\n"
     ]
    }
   ],
   "source": [
    "nevyazka = b - A@solv\n",
    "print (nevyazka)\n",
    "\n",
    "nevyazka_Z = b - A@solvZeydel\n",
    "print (nevyazka_Z)"
   ]
  },
  {
   "cell_type": "code",
   "execution_count": 275,
   "id": "4e443b6a",
   "metadata": {},
   "outputs": [
    {
     "name": "stdout",
     "output_type": "stream",
     "text": [
      "Норма вектора невязки, полученного стандартынм методом =  0.0\n",
      "Норма вектора невязки, полученного методом Зейделя =  7.918459855283695e-08\n"
     ]
    }
   ],
   "source": [
    "n = len (solv)\n",
    "\n",
    "normaNev = 0\n",
    "for i in range (n):\n",
    "    tmp = nevyazka[i]*nevyazka[i]\n",
    "    normaNev += tmp\n",
    "normaNev = np.sqrt(normaNev)\n",
    "print (\"Норма вектора невязки, полученного стандартынм методом = \", normaNev)\n",
    "\n",
    "normaNev = 0\n",
    "for i in range (n):\n",
    "    tmp = nevyazka_Z[i]*nevyazka_Z[i]\n",
    "    normaNev += tmp\n",
    "normaNev = np.sqrt(normaNev)\n",
    "print (\"Норма вектора невязки, полученного методом Зейделя = \", normaNev)\n"
   ]
  },
  {
   "cell_type": "markdown",
   "id": "512a6f11",
   "metadata": {},
   "source": [
    "По представленным выше вычислениям видно, что, стандартный метод решает матрицу Гилберта с заданной правой частью лучше.\n",
    "Так, при размерности 4 на 4 мы получаем нулевую невзяку при использовании прямого метода вычислений.\n",
    "\n",
    "При увеличении размерности матрицы, норма невязки растет, как для прямого, так и для итерационного методов, то есть решение становится менее точным. Это происходит из за очень плохой обуловленности матрицы Гильберта."
   ]
  },
  {
   "cell_type": "code",
   "execution_count": 276,
   "id": "709ef7c9",
   "metadata": {},
   "outputs": [
    {
     "name": "stdout",
     "output_type": "stream",
     "text": [
      "Число обусловленности матрицы Гильберта =  15513.738738929038\n"
     ]
    }
   ],
   "source": [
    "cho = np.linalg.cond(A) \n",
    "print (\"Число обусловленности матрицы Гильберта = \", cho)"
   ]
  },
  {
   "cell_type": "code",
   "execution_count": null,
   "id": "12563b1d",
   "metadata": {},
   "outputs": [],
   "source": []
  }
 ],
 "metadata": {
  "kernelspec": {
   "display_name": "Python 3 (ipykernel)",
   "language": "python",
   "name": "python3"
  },
  "language_info": {
   "codemirror_mode": {
    "name": "ipython",
    "version": 3
   },
   "file_extension": ".py",
   "mimetype": "text/x-python",
   "name": "python",
   "nbconvert_exporter": "python",
   "pygments_lexer": "ipython3",
   "version": "3.10.9"
  }
 },
 "nbformat": 4,
 "nbformat_minor": 5
}
